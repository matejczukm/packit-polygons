{
 "cells": [
  {
   "cell_type": "code",
   "execution_count": 3,
   "id": "8f01e598-3bdb-430b-a325-b062db53b06d",
   "metadata": {},
   "outputs": [],
   "source": [
    "import copy\n",
    "import numpy as np"
   ]
  },
  {
   "cell_type": "code",
   "execution_count": 10,
   "id": "0fbbf04e-1eff-4305-83e9-fba9d83a8984",
   "metadata": {},
   "outputs": [],
   "source": [
    "def validate_polygon(polygon_vector):\n",
    "\n",
    "    #takes np.array\n",
    "\n",
    "    vector_length = len(polygon_vector)\n",
    "    if vector_length == 1:\n",
    "        return True\n",
    "\n",
    "    \n",
    "    tmp_polygon_vector = np.array(polygon_vector)\n",
    "    tmp_polygon_vector= np.append(tmp_polygon_vector, -1)\n",
    "    \n",
    "\n",
    "    i=1\n",
    "    last_element = polygon_vector[0]\n",
    "    current_element = tmp_polygon_vector[i]\n",
    "    \n",
    "        \n",
    "    while i<vector_length and last_element==current_element-1:\n",
    "        last_element = current_element \n",
    "        i+=1\n",
    "        current_element = tmp_polygon_vector[i]\n",
    "\n",
    "    while i<vector_length and last_element==current_element:\n",
    "        last_element = current_element \n",
    "        i+=1\n",
    "        current_element = tmp_polygon_vector[i]\n",
    "        \n",
    "\n",
    "    while i<vector_length and last_element==current_element+1:\n",
    "        last_element = current_element \n",
    "        i+=1\n",
    "        current_element = tmp_polygon_vector[i]\n",
    "\n",
    "    return True if current_element==-1 else False\n"
   ]
  },
  {
   "cell_type": "code",
   "execution_count": 11,
   "id": "c9cd2ca3-852d-4e55-a51f-85c5ccf97865",
   "metadata": {},
   "outputs": [
    {
     "data": {
      "text/plain": [
       "False"
      ]
     },
     "execution_count": 11,
     "metadata": {},
     "output_type": "execute_result"
    }
   ],
   "source": [
    "validate_polygon(np.array([1,1,1,3]))"
   ]
  },
  {
   "cell_type": "code",
   "execution_count": 12,
   "id": "04b02b6f-2f2a-4fe3-b495-bfa7ab7f1a97",
   "metadata": {},
   "outputs": [],
   "source": [
    "def cut_zeroes_from_array(array):\n",
    "\n",
    "    dezeroed_array=[]\n",
    "    for i in array:\n",
    "        if i!=0:\n",
    "            dezeroed_array.append(i)\n",
    "    return dezeroed_array\n",
    "            "
   ]
  },
  {
   "cell_type": "code",
   "execution_count": 13,
   "id": "9ba1587e-18a5-4fe7-a69b-2a8ea89e1205",
   "metadata": {},
   "outputs": [],
   "source": [
    "def convert_polygon_vector_to_arrays(polygon_vector, value=1):\n",
    "\n",
    "    #takes dezeroed vector as array\n",
    "    #rretruns list of arrays\n",
    "    \n",
    "    height = len(polygon_vector)\n",
    "    width = max(polygon_vector)\n",
    "    \n",
    "    straight_matrix = np.zeros([height, width])\n",
    "    # matrix for symmetrical and right-leaning polygon (always exists for validated vector)\n",
    "    duplicate_adjacent_ix = -1 # if exists, a left-leaning solution will be created later\n",
    "    duplicate_counter = 0\n",
    "    duplicate_value = -1\n",
    "    \n",
    "    for row in range(height):\n",
    "        row_length = polygon_vector[row] #number of hexes in row\n",
    "        \n",
    "        if duplicate_adjacent_ix == -1 and row != height - 1 and row_length == polygon_vector[row + 1]:\n",
    "            duplicate_adjacent_ix = row\n",
    "            duplicate_value = row_length\n",
    "            \n",
    "        if row_length == duplicate_value:\n",
    "            duplicate_counter+=1\n",
    "            \n",
    "        for column in range(row_length):\n",
    "            straight_matrix[row][column] = value\n",
    "\n",
    "    if duplicate_adjacent_ix >=0:\n",
    "        llm_width = width+duplicate_counter-1\n",
    "        left_leaning_matrix  = np.zeros([height, llm_width])\n",
    "        offset=0\n",
    "        for row in range(height):\n",
    "            if row > duplicate_adjacent_ix and row < duplicate_adjacent_ix+duplicate_counter:\n",
    "                offset+=1\n",
    "            for column in range(width):\n",
    "                left_leaning_matrix[row][column+offset] = straight_matrix[row][column]\n",
    "        return [straight_matrix, left_leaning_matrix]\n",
    "            \n",
    "    return [straight_matrix]\n",
    "        \n",
    "\n",
    "\n",
    "        \n",
    "        \n",
    "    "
   ]
  },
  {
   "cell_type": "code",
   "execution_count": 14,
   "id": "15f41775-97f8-4630-a8fe-03a8db1048b2",
   "metadata": {},
   "outputs": [
    {
     "data": {
      "text/plain": [
       "[array([[1., 0., 0.],\n",
       "        [1., 1., 0.],\n",
       "        [1., 1., 1.],\n",
       "        [1., 1., 1.],\n",
       "        [1., 1., 1.],\n",
       "        [1., 1., 0.]]),\n",
       " array([[1., 0., 0., 0., 0.],\n",
       "        [1., 1., 0., 0., 0.],\n",
       "        [1., 1., 1., 0., 0.],\n",
       "        [0., 1., 1., 1., 0.],\n",
       "        [0., 0., 1., 1., 1.],\n",
       "        [0., 0., 1., 1., 0.]])]"
      ]
     },
     "execution_count": 14,
     "metadata": {},
     "output_type": "execute_result"
    }
   ],
   "source": [
    "convert_polygon_vector_to_arrays(np.array([1,2,3,3,3,2]))"
   ]
  },
  {
   "cell_type": "code",
   "execution_count": 19,
   "id": "588fd0be-2020-4d44-acb3-101399dfffde",
   "metadata": {},
   "outputs": [],
   "source": [
    "def generate_polygon_vectors(polygon_size, board_size):\n",
    "    \n",
    "    def helper(remaining, current):\n",
    "        if len(current)>board_size:\n",
    "            return\n",
    "        if remaining == 0 and validate_polygon(np.array(current)) and check_if_vector_fits_on_board(np.array(current), board_size):\n",
    "            polygon_vectors.append(np.array(current))\n",
    "            return\n",
    "        for i in range(1, remaining + 1):\n",
    "            helper(remaining - i, current + [i])\n",
    "    \n",
    "    polygon_vectors = []\n",
    "    helper(polygon_size, [])\n",
    "    \n",
    "    return polygon_vectors"
   ]
  },
  {
   "cell_type": "code",
   "execution_count": 32,
   "id": "0a391060-bf30-40be-83c2-777424804625",
   "metadata": {},
   "outputs": [
    {
     "data": {
      "text/plain": [
       "[array([1, 2, 3, 4]),\n",
       " array([2, 3, 3, 2]),\n",
       " array([3, 4, 3]),\n",
       " array([4, 3, 2, 1])]"
      ]
     },
     "execution_count": 32,
     "metadata": {},
     "output_type": "execute_result"
    }
   ],
   "source": [
    "generate_polygon_vectors(10,5)"
   ]
  },
  {
   "cell_type": "code",
   "execution_count": 18,
   "id": "23ae54f1-5fb5-4def-bba9-df94606ff043",
   "metadata": {},
   "outputs": [],
   "source": [
    "def check_if_vector_fits_on_board(vector, board_size):\n",
    "    max_row_length = np.max(vector)\n",
    "    max_row_count = np.count_nonzero(vector == max_row_length)\n",
    "            \n",
    "    min_row_length = np.min(vector)\n",
    "    row_length_diff = max_row_length - min_row_length\n",
    "    return max_row_length + max_row_count-1 <= board_size and (max_row_count + row_length_diff - (board_size-max_row_length) <= (board_size+1)/2)"
   ]
  },
  {
   "cell_type": "code",
   "execution_count": 6,
   "id": "5a8679a1-dd9b-4ac0-aa8b-324317add39d",
   "metadata": {},
   "outputs": [
    {
     "data": {
      "text/plain": [
       "np.True_"
      ]
     },
     "execution_count": 6,
     "metadata": {},
     "output_type": "execute_result"
    }
   ],
   "source": [
    "check_if_vector_fits_on_board(np.array([2,2,2,2]), 5)"
   ]
  },
  {
   "cell_type": "code",
   "execution_count": 228,
   "id": "9b2a3e2d-4da5-472c-bc21-c646069279bf",
   "metadata": {},
   "outputs": [],
   "source": [
    "def expand_to_hex_board(polygon, board_height, board_width, left, top):\n",
    "    # takes np.array matrix repr of polygon, np.array matrix repr of board, and 2 ints\n",
    "    polygon_height = len(polygon)\n",
    "    polygon_width = len(polygon[1])\n",
    "\n",
    "    assert polygon_height + top <= board_height, 'Invalid vertical offset'\n",
    "    assert polygon_width + left <= board_height, 'Invalid horizontal offset'\n",
    "\n",
    "    left_offset = np.zeros([polygon_height, left])\n",
    "    right_offset = np.zeros([polygon_height, board_width - left - polygon_width])\n",
    "    top_offset = np.zeros([top, board_width])\n",
    "    bottom_offset = np.zeros([board_height - top - polygon_height, board_width])\n",
    "    \n",
    "    expanded_polygon = np.hstack((left_offset, polygon, right_offset))\n",
    "    expanded_polygon = np.vstack((top_offset, expanded_polygon, bottom_offset))\n",
    "    \n",
    "    return expanded_polygon"
   ]
  },
  {
   "cell_type": "code",
   "execution_count": 231,
   "id": "f09791c4-eb0e-4798-a3ea-0b2c78cf94cf",
   "metadata": {},
   "outputs": [
    {
     "data": {
      "text/plain": [
       "array([[0., 0., 0., 0., 0., 0., 0.],\n",
       "       [0., 0., 0., 0., 0., 0., 0.],\n",
       "       [0., 0., 0., 0., 0., 0., 0.],\n",
       "       [0., 0., 0., 0., 1., 0., 0.],\n",
       "       [0., 0., 0., 0., 0., 1., 0.],\n",
       "       [0., 0., 0., 0., 0., 0., 1.],\n",
       "       [0., 0., 0., 0., 0., 0., 0.]])"
      ]
     },
     "execution_count": 231,
     "metadata": {},
     "output_type": "execute_result"
    }
   ],
   "source": [
    "expand_to_hex_board(np.eye(3), 7, 7, 4, 3)"
   ]
  },
  {
   "cell_type": "code",
   "execution_count": 342,
   "id": "e89e097a-f36c-4fb0-8e5a-991a0e836cb3",
   "metadata": {},
   "outputs": [],
   "source": [
    "def generate_possible_placements(polygon_size, board_size, value):\n",
    "    polygon_vectors = generate_polygon_vectors(polygon_size, board_size)\n",
    "    polygons = []\n",
    "    board_side = int((board_size+1)/2)\n",
    "    for vector in polygon_vectors:\n",
    "        polygons.extend(convert_polygon_vector_to_arrays(vector, value))\n",
    "    for polygon in polygons:\n",
    "        polygon_height = np.shape(polygon)[0]\n",
    "        polygon_width = np.shape(polygon)[1]\n",
    "        last_max_row = board_size - 1 - np.argmax(np.flip(polygon[:,-1]))\n",
    "        rows_under_last_max = polygon_height-last_max_row-1\n",
    "        lowest_row_for_last_max_row = board_size - 1 - max(polygon_width-board_side, rows_under_last_max)\n"
   ]
  },
  {
   "cell_type": "code",
   "execution_count": 166,
   "id": "e54504c4-5e79-4b9e-946c-635e7ac5884a",
   "metadata": {},
   "outputs": [
    {
     "data": {
      "text/plain": [
       "array([5, 5, 3])"
      ]
     },
     "execution_count": 166,
     "metadata": {},
     "output_type": "execute_result"
    }
   ],
   "source": [
    "a = np.array([[1,2,3],[3,4,5],[3,4,5]])\n",
    "np.flip(a[:,-1])"
   ]
  },
  {
   "cell_type": "code",
   "execution_count": 168,
   "id": "7110e977-627e-4e59-bb69-c325dae0d3b2",
   "metadata": {},
   "outputs": [
    {
     "data": {
      "text/plain": [
       "np.int64(2)"
      ]
     },
     "execution_count": 168,
     "metadata": {},
     "output_type": "execute_result"
    }
   ],
   "source": [
    "3 - 1 - np.argmax(np.flip(a[:,-1]))"
   ]
  },
  {
   "cell_type": "code",
   "execution_count": 169,
   "id": "239e874e-5145-4cd1-99d7-02a3838d61ba",
   "metadata": {},
   "outputs": [
    {
     "data": {
      "text/plain": [
       "3"
      ]
     },
     "execution_count": 169,
     "metadata": {},
     "output_type": "execute_result"
    }
   ],
   "source": [
    "max(1,3)"
   ]
  },
  {
   "cell_type": "code",
   "execution_count": null,
   "id": "29daa845-56f3-4599-b6b4-589e87d8ab45",
   "metadata": {},
   "outputs": [],
   "source": []
  }
 ],
 "metadata": {
  "kernelspec": {
   "display_name": "Python (venv)",
   "language": "python",
   "name": "venv"
  },
  "language_info": {
   "codemirror_mode": {
    "name": "ipython",
    "version": 3
   },
   "file_extension": ".py",
   "mimetype": "text/x-python",
   "name": "python",
   "nbconvert_exporter": "python",
   "pygments_lexer": "ipython3",
   "version": "3.12.7"
  }
 },
 "nbformat": 4,
 "nbformat_minor": 5
}
